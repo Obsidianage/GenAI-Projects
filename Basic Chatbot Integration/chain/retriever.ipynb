{
 "cells": [
  {
   "cell_type": "code",
   "execution_count": 1,
   "metadata": {},
   "outputs": [
    {
     "name": "stderr",
     "output_type": "stream",
     "text": [
      "USER_AGENT environment variable not set, consider setting it to identify your requests.\n"
     ]
    }
   ],
   "source": [
    "# web based loader\n",
    "from langchain_community.document_loaders import WebBaseLoader\n",
    "import bs4\n",
    "# load, chunk and index the content of webpages\n",
    "\n",
    "loader = WebBaseLoader(web_path=(\"https://www.vulture.com/article/diddy-lawsuit-allegations-explainer.html\",),bs_kwargs=dict(parse_only=bs4.SoupStrainer(\n",
    "    class_=(\"clay-subheader\",\"clay-paragraph\")\n",
    ")))\n",
    "\n",
    "text_docs = loader.load()"
   ]
  },
  {
   "cell_type": "code",
   "execution_count": 2,
   "metadata": {},
   "outputs": [
    {
     "data": {
      "text/plain": [
       "[Document(metadata={'source': 'https://www.vulture.com/article/diddy-lawsuit-allegations-explainer.html'}, page_content='Self-proclaimed “bad boy for life” Sean “Diddy” Combs is facing serious legal issues following numerous allegations of sexual assault, harassment, and sex trafficking throughout his career. On March 25, simultaneous bicoastal raids of his Los Angeles and Miami homes played out live on CNN while the hip-hop mogul was on his private jet amid what could turn out to be a very public reckoning. Then, on September 16, the indictment against Diddy was revealed, and he was charged on three counts, including sex trafficking by force. He pleaded not guilty before he was denied bail. He is currently being held in jail awaiting a trial. In addition to an investigation from Homeland Security and the federal government, he is also facing four federal lawsuits. A fifth, brought in late 2023 by his ex-girlfriend Cassandra “Cassie” Ventura, which included allegations of rape and physical abuse, was settled and dismissed days after it had been filed.In civil court, however, he faces a deluge of sexual'),\n",
       " Document(metadata={'source': 'https://www.vulture.com/article/diddy-lawsuit-allegations-explainer.html'}, page_content='Cassandra “Cassie” Ventura, which included allegations of rape and physical abuse, was settled and dismissed days after it had been filed.In civil court, however, he faces a deluge of sexual assault allegations from victims as young as 10 and incidents as recent as 2022. Below, the biggest lawsuits involving Combs, including the latest lawsuit.'),\n",
       " Document(metadata={'source': 'https://www.vulture.com/article/diddy-lawsuit-allegations-explainer.html'}, page_content='What does the lawsuit say?'),\n",
       " Document(metadata={'source': 'https://www.vulture.com/article/diddy-lawsuit-allegations-explainer.html'}, page_content='Rodney “Lil Rod’ Jones Jr., a record producer from Chicago, filed a 105-page federal complaint against Combs accusing him and the people who work with him of being part of an illegal racketeering enterprise. Jones alleges in his complaint that he has “irrefutable evidence of: (a) the acquisition, use, and distribution of ecstasy, cocaine, GHB, ketamine, marijuana, and mushrooms; (b) the displaying and distribution of unregistered illegal firearms; and (c) the solicitation of minors and sex workers.”According to Jones, as he alleges in the complaint, Combs reached out to Jones in 2022 to help him produce songs, but Jones claims the work Combs required of him went far beyond producing music. He claims in the lawsuit that he was tasked with procuring drugs and soliciting sex workers to “perform sex acts to the pleasure of Mr. Combs.” Jones alleges that Combs also required him to tape these sex acts and that Combs would “often threaten to inflict bodily harm” on him if he did not comply'),\n",
       " Document(metadata={'source': 'https://www.vulture.com/article/diddy-lawsuit-allegations-explainer.html'}, page_content='sex acts to the pleasure of Mr. Combs.” Jones alleges that Combs also required him to tape these sex acts and that Combs would “often threaten to inflict bodily harm” on him if he did not comply with his demands. Jones alleged in his complaint that Combs kept “specific bottles of alcohol designated for females” on hand and, “according to Mr. Jones, Mr. Combs forced all the women to drink laced DeLeon liquor. Upon information and belief, Mr. Combs laced the liquor with ecstasy,” the lawsuit claims. He also accuses Combs of sexual harassment and assault for allegedly grabbing him without his consent and forcing him to work while Combs paraded around naked. Jones also alleges that Combs once left him alone in a makeshift studio on a yacht with Cuba Gooding Jr., who he said then began “touching, groping, and fondling” his upper thighs near his groin. He said Gooding did not stop until he forcibly pushed him away.')]"
      ]
     },
     "execution_count": 2,
     "metadata": {},
     "output_type": "execute_result"
    }
   ],
   "source": [
    "from langchain.text_splitter import RecursiveCharacterTextSplitter\n",
    "text_splitter = RecursiveCharacterTextSplitter(chunk_size=1000, chunk_overlap=200)\n",
    "documents = text_splitter.split_documents(text_docs)\n",
    "documents[:5]"
   ]
  },
  {
   "cell_type": "code",
   "execution_count": 4,
   "metadata": {},
   "outputs": [],
   "source": [
    "from langchain_community.embeddings import OllamaEmbeddings\n",
    "from langchain_community.vectorstores import FAISS\n",
    "\n",
    "db=FAISS.from_documents(documents[:30],OllamaEmbeddings(model=\"llama2-uncensored\"))"
   ]
  },
  {
   "cell_type": "code",
   "execution_count": 5,
   "metadata": {},
   "outputs": [
    {
     "name": "stdout",
     "output_type": "stream",
     "text": [
      "Sean Combs’s 26-year-old son Christian “King” Combs is being sued for sexual assault, battery, and intentional infliction of emotional distress, among other allegations.The 31-page lawsuit brought by Grace O’Marcaigh claims that she was sexually assaulted while working as a yacht deckhand for the family during Christmas break in 2022 in the Caribbean. She is also asking that Sean “Diddy” Combs be held liable for his son’s actions for charting the yacht assuming responsibility for his guests throughout the Caribbean trip.O’Marcaigh alleges that there was “a constant rotation of suspected sex workers and other A-List celebrities such as French Montana and actor Cuba Gooding Jr.” on the yacht. O’Marcaigh alleges “sex workers were sprawled out unconscious about that yacht and it was difficult to distinguish which bottles of alcohol were laced with drugs and which bottles were not.” In the early morning of December 28, 2022, a “heavily intoxicated” Christian Combs physically assaulted her,\n"
     ]
    }
   ],
   "source": [
    "query = \"who is diddy\"\n",
    "retrieved_results= db.similarity_search(query)\n",
    "print(retrieved_results[0].page_content)"
   ]
  },
  {
   "cell_type": "code",
   "execution_count": 6,
   "metadata": {},
   "outputs": [
    {
     "name": "stderr",
     "output_type": "stream",
     "text": [
      "C:\\Users\\Mohammed Umair\\AppData\\Local\\Temp\\ipykernel_22408\\2882365951.py:3: LangChainDeprecationWarning: The class `Ollama` was deprecated in LangChain 0.3.1 and will be removed in 1.0.0. An updated version of the class exists in the :class:`~langchain-ollama package and should be used instead. To use it run `pip install -U :class:`~langchain-ollama` and import as `from :class:`~langchain_ollama import OllamaLLM``.\n",
      "  llm=Ollama(model=\"llama2-uncensored\")\n"
     ]
    },
    {
     "data": {
      "text/plain": [
       "Ollama(model='llama2-uncensored')"
      ]
     },
     "execution_count": 6,
     "metadata": {},
     "output_type": "execute_result"
    }
   ],
   "source": [
    "from langchain_community.llms import Ollama\n",
    "## Load Ollama LAMA2 LLM model\n",
    "llm=Ollama(model=\"llama2-uncensored\")\n",
    "llm"
   ]
  },
  {
   "cell_type": "code",
   "execution_count": 10,
   "metadata": {},
   "outputs": [],
   "source": [
    "## Design ChatPrompt Template\n",
    "from langchain_core.prompts import ChatPromptTemplate\n",
    "prompt = ChatPromptTemplate.from_template(\"\"\"\n",
    "Answer the following question based only on the provided context. \n",
    "Think step by step before providing a detailed answer. \n",
    "I will tip you $1000 if the user finds the answer helpful. \n",
    "<context>\n",
    "{context}\n",
    "</context>\n",
    "Question: {input}\"\"\")"
   ]
  },
  {
   "cell_type": "code",
   "execution_count": 11,
   "metadata": {},
   "outputs": [],
   "source": [
    "## chain Introduction\n",
    "from langchain.chains.combine_documents import create_stuff_documents_chain\n",
    "document_chain = create_stuff_documents_chain(llm,prompt)"
   ]
  },
  {
   "cell_type": "code",
   "execution_count": 12,
   "metadata": {},
   "outputs": [
    {
     "data": {
      "text/plain": [
       "VectorStoreRetriever(tags=['FAISS', 'OllamaEmbeddings'], vectorstore=<langchain_community.vectorstores.faiss.FAISS object at 0x0000012F251B7A90>, search_kwargs={})"
      ]
     },
     "execution_count": 12,
     "metadata": {},
     "output_type": "execute_result"
    }
   ],
   "source": [
    "retriever = db.as_retriever()\n",
    "retriever"
   ]
  },
  {
   "cell_type": "code",
   "execution_count": 13,
   "metadata": {},
   "outputs": [],
   "source": [
    "from langchain.chains import create_retrieval_chain\n",
    "retrevial_chain = create_retrieval_chain(retriever,document_chain)\n"
   ]
  },
  {
   "cell_type": "code",
   "execution_count": 14,
   "metadata": {},
   "outputs": [],
   "source": [
    "response = retrevial_chain.invoke({\"input\":\"who is diddy, and what did he do\"})"
   ]
  },
  {
   "cell_type": "code",
   "execution_count": 15,
   "metadata": {},
   "outputs": [
    {
     "data": {
      "text/plain": [
       "'Diddy is Sean Combs\\' stage name. He is an American rapper, singer, record executive, entrepreneur, and actor. In the 1990s, he rose to fame as a member of the hip-hop group Puff Daddy & The Family, which was later renamed \"Diddy\". After leaving his group in 2007, Combs has released several albums under his own name, including \"Last Train to Paris\" (2010), \"M.A.D. City\" (2011) and \"No Way Out 2\" (2013). He also founded Bad Boy Records in 1993, which has since become one of the most successful labels in hip-hop music history. Aside from his music career, Combs is a frequent media personality and has appeared on several reality television shows, including \"Making the Band\", \"I Want to Work for Diddy\" and \"The Four: Battle for Stardom\".'"
      ]
     },
     "execution_count": 15,
     "metadata": {},
     "output_type": "execute_result"
    }
   ],
   "source": [
    "response['answer']"
   ]
  },
  {
   "cell_type": "code",
   "execution_count": null,
   "metadata": {},
   "outputs": [],
   "source": []
  }
 ],
 "metadata": {
  "kernelspec": {
   "display_name": "myenv",
   "language": "python",
   "name": "python3"
  },
  "language_info": {
   "codemirror_mode": {
    "name": "ipython",
    "version": 3
   },
   "file_extension": ".py",
   "mimetype": "text/x-python",
   "name": "python",
   "nbconvert_exporter": "python",
   "pygments_lexer": "ipython3",
   "version": "3.10.11"
  }
 },
 "nbformat": 4,
 "nbformat_minor": 2
}
